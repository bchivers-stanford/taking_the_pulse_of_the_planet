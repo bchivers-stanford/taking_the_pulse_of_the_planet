{
 "cells": [
  {
   "cell_type": "markdown",
   "id": "c0edccee",
   "metadata": {
    "colab_type": "text",
    "id": "view-in-github"
   },
   "source": [
    "<a href=\"https://colab.research.google.com/github/bchivers-stanford/taking_the_pulse_of_the_planet/blob/main/Notebooks%202022-2023/pulse_assignment_2_part_1.ipynb\" target=\"_parent\"><img src=\"https://colab.research.google.com/assets/colab-badge.svg\" alt=\"Open In Colab\"/></a>"
   ]
  },
  {
   "cell_type": "markdown",
   "id": "bafae27b",
   "metadata": {
    "id": "bafae27b"
   },
   "source": [
    "# Assignment 2 Part 1: Taking the Pulse of the Land Surface - Changes in Precipitation and Temperature\n",
    "Rosemary Knight (rknight@stanford.edu) & Michael Morphew (mmorphew@stanford.edu), Stanford Environmental Geophysics Group\n",
    "\n",
    "This assignment, presented in two parts, with both due on `2023-1-31`. Please put your answers within this notebook and share the completed notebook with the graders, bsalvado@stanford.edu and mmorphew@stanford.edu, using the Share banner located at the top right corner of this notebook. When sharing your notebook, please change the name of the notebook and add your name and sunetid (e.g., pulse_course_assignment_2_firstname_lastname_sunetid.ipynb)\n",
    "\n",
    "## INTRODUCTION TO THE ASSIGNMENT\n",
    "In this assignment, we will explore the changes occurring on the land surface in response to climate change, and consider these changes in the context of sustainability.\n",
    "\n",
    "## DATA SETS\n",
    "\n",
    "Data sets used this assignment are: 1) precipitation; 2) temperature. Here is a brief description of each:\n",
    "\n",
    "1) Precipitation\n",
    "\n",
    "Time period: 1985-2021\n",
    "\n",
    "Temporal Resolution: Monthly\n",
    "\n",
    "Spatial Extent: Global Land\n",
    "\n",
    "Spatial Resolution: 1 degree\n",
    "\n",
    "A reanalysis dataset is a dataset that blends observations and climate models in an attempt to produce the most complete and accurate map of historical and recent climate data. Our precipitation data come from the ERA-5 data set made available by the European Centre for Medium-Range Weather Forecasts, which combines their own models with data from satellites using active and passive microwave sensors. For more information see: https://confluence.ecmwf.int/display/CKB/ERA5%3A+data+documentation#ERA5:datadocumentation\n",
    "\n",
    "2) Land Surface Temperature\n",
    "\n",
    "Time Period: 1985-2021\n",
    "\n",
    "Temporal Resolution: Monthly\n",
    "\n",
    "Spatial Extent: Global Land\n",
    "\n",
    "Spatial Resolution: 1 degree\n",
    "\n",
    "The temperature data also come from the ERA5 dataset linked above, which again combines models with satellite data (and for temperature, ground-based observations are also used). This particular temperature dataset is what the model predicts the air temperature will be 2m above the land's surface.\n",
    "\n",
    "TOOLBOX\n",
    "\n",
    "All the Python packages you will use in this assignment are in the toolbox for the course. (https://github.com/envgp/taking_the_pulse_of_the_planet/blob/main/notebooks/pulse_toolbox.ipynb)\n",
    "\n",
    "THE LEARNING GOALS FOR THE WEEK\n",
    "\n",
    "(where the course learning goals are in plain text, and the focus this week is in italics)\n",
    "\n",
    "•\tlearn about the ways in which climate change and human activity are impacting planet Earth, *with a focus this week in determining through analysis of the data how and where precipitation and surface temperature are changing.*\n",
    "\n",
    "•\tbecome familiar with the wide range of sensors available to study various components of the Earth system. These include sensors on satellites, aircraft, ground-based platforms, and deployed above or beneath the surface on land or water. *This week we will work with reanalysis data sets, that integrate measurements from satellites through models.*\n",
    "\n",
    "•\tbecome familiar with the basic physical principles (resolution, sampling, processing workflows, etc.) common to all sensors, *working this week with two data sets.*\n",
    "\n",
    "•\twork with various sources of data, learning how to access, analyze, synthesize, and describe the data to quantify trends; think critically and creatively about how to project these trends into the future. *In the first part of the assignment you will first design your own workflow, using your choice of data analysis methods and tools to explore the changes in precipitation and temperature. In part 2, we will lead you through some analyses.*\n",
    "\n",
    "•\tdescribe the complex interactions between human activity and various components of the Earth system, *this week framing this under the heading of sustainability, where the component of the Earth system is the land surface. We will consider: how are the changes in precipitation and temperature introducing sustainability challenges in different countries? How could human activity mitigate the negative effects? How are human activities amplifying the negative impacts?*\n",
    "\n",
    "•\tbecome motivated to think about new sensors and new ways of using sensor data to study the planet. *This is always the last question in each assignment. Given all that you now know about changes in precipitation and temperature, and how we measure/monitor it, what does the planet and all forms of life need you to design and deploy?*\n"
   ]
  },
  {
   "cell_type": "markdown",
   "id": "_YeCEojVBoj6",
   "metadata": {
    "id": "_YeCEojVBoj6"
   },
   "source": [
    "## Download required data and install Packages"
   ]
  },
  {
   "cell_type": "code",
   "execution_count": 1,
   "id": "pKpegj21BhMD",
   "metadata": {
    "id": "pKpegj21BhMD"
   },
   "outputs": [
    {
     "name": "stdout",
     "output_type": "stream",
     "text": [
      "Requirement already satisfied: xarray in /Users/bchivers/miniconda3/lib/python3.10/site-packages (2023.5.0)\n",
      "Requirement already satisfied: numpy in /Users/bchivers/miniconda3/lib/python3.10/site-packages (1.24.3)\n",
      "Requirement already satisfied: pandas in /Users/bchivers/miniconda3/lib/python3.10/site-packages (2.2.3)\n",
      "Requirement already satisfied: geopandas in /Users/bchivers/miniconda3/lib/python3.10/site-packages (0.14.0)\n",
      "Collecting cartopy==0.19.0.post1\n",
      "  Using cached Cartopy-0.19.0.post1.tar.gz (12.1 MB)\n",
      "  Installing build dependencies ... \u001b[?25ldone\n",
      "\u001b[?25h  Getting requirements to build wheel ... \u001b[?25lerror\n",
      "  \u001b[1;31merror\u001b[0m: \u001b[1msubprocess-exited-with-error\u001b[0m\n",
      "  \n",
      "  \u001b[31m×\u001b[0m \u001b[32mGetting requirements to build wheel\u001b[0m did not run successfully.\n",
      "  \u001b[31m│\u001b[0m exit code: \u001b[1;36m1\u001b[0m\n",
      "  \u001b[31m╰─>\u001b[0m \u001b[31m[15 lines of output]\u001b[0m\n",
      "  \u001b[31m   \u001b[0m Traceback (most recent call last):\n",
      "  \u001b[31m   \u001b[0m   File \"/Users/bchivers/miniconda3/lib/python3.10/site-packages/pip/_vendor/pyproject_hooks/_in_process/_in_process.py\", line 353, in <module>\n",
      "  \u001b[31m   \u001b[0m     main()\n",
      "  \u001b[31m   \u001b[0m   File \"/Users/bchivers/miniconda3/lib/python3.10/site-packages/pip/_vendor/pyproject_hooks/_in_process/_in_process.py\", line 335, in main\n",
      "  \u001b[31m   \u001b[0m     json_out['return_val'] = hook(**hook_input['kwargs'])\n",
      "  \u001b[31m   \u001b[0m   File \"/Users/bchivers/miniconda3/lib/python3.10/site-packages/pip/_vendor/pyproject_hooks/_in_process/_in_process.py\", line 118, in get_requires_for_build_wheel\n",
      "  \u001b[31m   \u001b[0m     return hook(config_settings)\n",
      "  \u001b[31m   \u001b[0m   File \"/private/var/folders/9f/_x5zldf93436dmgqs24dj1rw0000gp/T/pip-build-env-1nzuuzde/overlay/lib/python3.10/site-packages/setuptools/build_meta.py\", line 334, in get_requires_for_build_wheel\n",
      "  \u001b[31m   \u001b[0m     return self._get_build_requires(config_settings, requirements=[])\n",
      "  \u001b[31m   \u001b[0m   File \"/private/var/folders/9f/_x5zldf93436dmgqs24dj1rw0000gp/T/pip-build-env-1nzuuzde/overlay/lib/python3.10/site-packages/setuptools/build_meta.py\", line 304, in _get_build_requires\n",
      "  \u001b[31m   \u001b[0m     self.run_setup()\n",
      "  \u001b[31m   \u001b[0m   File \"/private/var/folders/9f/_x5zldf93436dmgqs24dj1rw0000gp/T/pip-build-env-1nzuuzde/overlay/lib/python3.10/site-packages/setuptools/build_meta.py\", line 320, in run_setup\n",
      "  \u001b[31m   \u001b[0m     exec(code, locals())\n",
      "  \u001b[31m   \u001b[0m   File \"<string>\", line 35, in <module>\n",
      "  \u001b[31m   \u001b[0m ImportError: cannot import name 'convert_path' from 'setuptools' (/private/var/folders/9f/_x5zldf93436dmgqs24dj1rw0000gp/T/pip-build-env-1nzuuzde/overlay/lib/python3.10/site-packages/setuptools/__init__.py)\n",
      "  \u001b[31m   \u001b[0m \u001b[31m[end of output]\u001b[0m\n",
      "  \n",
      "  \u001b[1;35mnote\u001b[0m: This error originates from a subprocess, and is likely not a problem with pip.\n",
      "\u001b[1;31merror\u001b[0m: \u001b[1msubprocess-exited-with-error\u001b[0m\n",
      "\n",
      "\u001b[31m×\u001b[0m \u001b[32mGetting requirements to build wheel\u001b[0m did not run successfully.\n",
      "\u001b[31m│\u001b[0m exit code: \u001b[1;36m1\u001b[0m\n",
      "\u001b[31m╰─>\u001b[0m See above for output.\n",
      "\n",
      "\u001b[1;35mnote\u001b[0m: This error originates from a subprocess, and is likely not a problem with pip.\n",
      "\u001b[?25h"
     ]
    }
   ],
   "source": [
    "!pip install xarray numpy pandas geopandas cartopy==0.19.0.post1 rioxarray ipywidgets"
   ]
  },
  {
   "cell_type": "code",
   "execution_count": 2,
   "id": "imPj5kOBBjlB",
   "metadata": {
    "id": "imPj5kOBBjlB"
   },
   "outputs": [
    {
     "name": "stdout",
     "output_type": "stream",
     "text": [
      "Found existing installation: shapely 2.0.6\n",
      "Uninstalling shapely-2.0.6:\n",
      "  Successfully uninstalled shapely-2.0.6\n"
     ]
    }
   ],
   "source": [
    "!pip uninstall -y shapely"
   ]
  },
  {
   "cell_type": "code",
   "execution_count": 3,
   "id": "ACdfOCQEBlIF",
   "metadata": {
    "id": "ACdfOCQEBlIF"
   },
   "outputs": [
    {
     "name": "stdout",
     "output_type": "stream",
     "text": [
      "\u001b[33mDEPRECATION: --no-binary currently disables reading from the cache of locally built wheels. In the future --no-binary will not influence the wheel cache. pip 23.1 will enforce this behaviour change. A possible replacement is to use the --no-cache-dir option. You can use the flag --use-feature=no-binary-enable-wheel-cache to test the upcoming behaviour. Discussion can be found at https://github.com/pypa/pip/issues/11453\u001b[0m\u001b[33m\n",
      "\u001b[0mCollecting shapely\n",
      "  Using cached shapely-2.0.6.tar.gz (282 kB)\n",
      "  Installing build dependencies ... \u001b[?25ldone\n",
      "\u001b[?25h  Getting requirements to build wheel ... \u001b[?25ldone\n",
      "\u001b[?25h  Preparing metadata (pyproject.toml) ... \u001b[?25ldone\n",
      "\u001b[?25hRequirement already satisfied: numpy<3,>=1.14 in /Users/bchivers/miniconda3/lib/python3.10/site-packages (from shapely) (1.24.3)\n",
      "Building wheels for collected packages: shapely\n",
      "  Building wheel for shapely (pyproject.toml) ... \u001b[?25lerror\n",
      "  \u001b[1;31merror\u001b[0m: \u001b[1msubprocess-exited-with-error\u001b[0m\n",
      "  \n",
      "  \u001b[31m×\u001b[0m \u001b[32mBuilding wheel for shapely \u001b[0m\u001b[1;32m(\u001b[0m\u001b[32mpyproject.toml\u001b[0m\u001b[1;32m)\u001b[0m did not run successfully.\n",
      "  \u001b[31m│\u001b[0m exit code: \u001b[1;36m1\u001b[0m\n",
      "  \u001b[31m╰─>\u001b[0m \u001b[31m[149 lines of output]\u001b[0m\n",
      "  \u001b[31m   \u001b[0m Could not find geos-config executable. Either append the path to geos-config to PATH or manually provide the include_dirs, library_dirs, libraries and other link args for compiling against a GEOS version >=3.5.\n",
      "  \u001b[31m   \u001b[0m running bdist_wheel\n",
      "  \u001b[31m   \u001b[0m running build\n",
      "  \u001b[31m   \u001b[0m running build_py\n",
      "  \u001b[31m   \u001b[0m creating build/lib.macosx-11.1-arm64-cpython-310/shapely\n",
      "  \u001b[31m   \u001b[0m copying shapely/predicates.py -> build/lib.macosx-11.1-arm64-cpython-310/shapely\n",
      "  \u001b[31m   \u001b[0m copying shapely/_enum.py -> build/lib.macosx-11.1-arm64-cpython-310/shapely\n",
      "  \u001b[31m   \u001b[0m copying shapely/creation.py -> build/lib.macosx-11.1-arm64-cpython-310/shapely\n",
      "  \u001b[31m   \u001b[0m copying shapely/strtree.py -> build/lib.macosx-11.1-arm64-cpython-310/shapely\n",
      "  \u001b[31m   \u001b[0m copying shapely/coords.py -> build/lib.macosx-11.1-arm64-cpython-310/shapely\n",
      "  \u001b[31m   \u001b[0m copying shapely/_version.py -> build/lib.macosx-11.1-arm64-cpython-310/shapely\n",
      "  \u001b[31m   \u001b[0m copying shapely/prepared.py -> build/lib.macosx-11.1-arm64-cpython-310/shapely\n",
      "  \u001b[31m   \u001b[0m copying shapely/linear.py -> build/lib.macosx-11.1-arm64-cpython-310/shapely\n",
      "  \u001b[31m   \u001b[0m copying shapely/plotting.py -> build/lib.macosx-11.1-arm64-cpython-310/shapely\n",
      "  \u001b[31m   \u001b[0m copying shapely/io.py -> build/lib.macosx-11.1-arm64-cpython-310/shapely\n",
      "  \u001b[31m   \u001b[0m copying shapely/measurement.py -> build/lib.macosx-11.1-arm64-cpython-310/shapely\n",
      "  \u001b[31m   \u001b[0m copying shapely/affinity.py -> build/lib.macosx-11.1-arm64-cpython-310/shapely\n",
      "  \u001b[31m   \u001b[0m copying shapely/__init__.py -> build/lib.macosx-11.1-arm64-cpython-310/shapely\n",
      "  \u001b[31m   \u001b[0m copying shapely/ops.py -> build/lib.macosx-11.1-arm64-cpython-310/shapely\n",
      "  \u001b[31m   \u001b[0m copying shapely/_geometry.py -> build/lib.macosx-11.1-arm64-cpython-310/shapely\n",
      "  \u001b[31m   \u001b[0m copying shapely/set_operations.py -> build/lib.macosx-11.1-arm64-cpython-310/shapely\n",
      "  \u001b[31m   \u001b[0m copying shapely/geos.py -> build/lib.macosx-11.1-arm64-cpython-310/shapely\n",
      "  \u001b[31m   \u001b[0m copying shapely/wkt.py -> build/lib.macosx-11.1-arm64-cpython-310/shapely\n",
      "  \u001b[31m   \u001b[0m copying shapely/errors.py -> build/lib.macosx-11.1-arm64-cpython-310/shapely\n",
      "  \u001b[31m   \u001b[0m copying shapely/speedups.py -> build/lib.macosx-11.1-arm64-cpython-310/shapely\n",
      "  \u001b[31m   \u001b[0m copying shapely/testing.py -> build/lib.macosx-11.1-arm64-cpython-310/shapely\n",
      "  \u001b[31m   \u001b[0m copying shapely/constructive.py -> build/lib.macosx-11.1-arm64-cpython-310/shapely\n",
      "  \u001b[31m   \u001b[0m copying shapely/_ragged_array.py -> build/lib.macosx-11.1-arm64-cpython-310/shapely\n",
      "  \u001b[31m   \u001b[0m copying shapely/wkb.py -> build/lib.macosx-11.1-arm64-cpython-310/shapely\n",
      "  \u001b[31m   \u001b[0m copying shapely/coordinates.py -> build/lib.macosx-11.1-arm64-cpython-310/shapely\n",
      "  \u001b[31m   \u001b[0m copying shapely/validation.py -> build/lib.macosx-11.1-arm64-cpython-310/shapely\n",
      "  \u001b[31m   \u001b[0m copying shapely/decorators.py -> build/lib.macosx-11.1-arm64-cpython-310/shapely\n",
      "  \u001b[31m   \u001b[0m creating build/lib.macosx-11.1-arm64-cpython-310/shapely/algorithms\n",
      "  \u001b[31m   \u001b[0m copying shapely/algorithms/_oriented_envelope.py -> build/lib.macosx-11.1-arm64-cpython-310/shapely/algorithms\n",
      "  \u001b[31m   \u001b[0m copying shapely/algorithms/__init__.py -> build/lib.macosx-11.1-arm64-cpython-310/shapely/algorithms\n",
      "  \u001b[31m   \u001b[0m copying shapely/algorithms/polylabel.py -> build/lib.macosx-11.1-arm64-cpython-310/shapely/algorithms\n",
      "  \u001b[31m   \u001b[0m copying shapely/algorithms/cga.py -> build/lib.macosx-11.1-arm64-cpython-310/shapely/algorithms\n",
      "  \u001b[31m   \u001b[0m creating build/lib.macosx-11.1-arm64-cpython-310/shapely/tests\n",
      "  \u001b[31m   \u001b[0m copying shapely/tests/test_constructive.py -> build/lib.macosx-11.1-arm64-cpython-310/shapely/tests\n",
      "  \u001b[31m   \u001b[0m copying shapely/tests/test_strtree.py -> build/lib.macosx-11.1-arm64-cpython-310/shapely/tests\n",
      "  \u001b[31m   \u001b[0m copying shapely/tests/test_plotting.py -> build/lib.macosx-11.1-arm64-cpython-310/shapely/tests\n",
      "  \u001b[31m   \u001b[0m copying shapely/tests/test_misc.py -> build/lib.macosx-11.1-arm64-cpython-310/shapely/tests\n",
      "  \u001b[31m   \u001b[0m copying shapely/tests/test_measurement.py -> build/lib.macosx-11.1-arm64-cpython-310/shapely/tests\n",
      "  \u001b[31m   \u001b[0m copying shapely/tests/test_set_operations.py -> build/lib.macosx-11.1-arm64-cpython-310/shapely/tests\n",
      "  \u001b[31m   \u001b[0m copying shapely/tests/__init__.py -> build/lib.macosx-11.1-arm64-cpython-310/shapely/tests\n",
      "  \u001b[31m   \u001b[0m copying shapely/tests/test_io.py -> build/lib.macosx-11.1-arm64-cpython-310/shapely/tests\n",
      "  \u001b[31m   \u001b[0m copying shapely/tests/test_creation.py -> build/lib.macosx-11.1-arm64-cpython-310/shapely/tests\n",
      "  \u001b[31m   \u001b[0m copying shapely/tests/test_ragged_array.py -> build/lib.macosx-11.1-arm64-cpython-310/shapely/tests\n",
      "  \u001b[31m   \u001b[0m copying shapely/tests/common.py -> build/lib.macosx-11.1-arm64-cpython-310/shapely/tests\n",
      "  \u001b[31m   \u001b[0m copying shapely/tests/test_coordinates.py -> build/lib.macosx-11.1-arm64-cpython-310/shapely/tests\n",
      "  \u001b[31m   \u001b[0m copying shapely/tests/test_predicates.py -> build/lib.macosx-11.1-arm64-cpython-310/shapely/tests\n",
      "  \u001b[31m   \u001b[0m copying shapely/tests/test_linear.py -> build/lib.macosx-11.1-arm64-cpython-310/shapely/tests\n",
      "  \u001b[31m   \u001b[0m copying shapely/tests/test_geometry.py -> build/lib.macosx-11.1-arm64-cpython-310/shapely/tests\n",
      "  \u001b[31m   \u001b[0m copying shapely/tests/test_creation_indices.py -> build/lib.macosx-11.1-arm64-cpython-310/shapely/tests\n",
      "  \u001b[31m   \u001b[0m copying shapely/tests/test_testing.py -> build/lib.macosx-11.1-arm64-cpython-310/shapely/tests\n",
      "  \u001b[31m   \u001b[0m creating build/lib.macosx-11.1-arm64-cpython-310/shapely/vectorized\n",
      "  \u001b[31m   \u001b[0m copying shapely/vectorized/__init__.py -> build/lib.macosx-11.1-arm64-cpython-310/shapely/vectorized\n",
      "  \u001b[31m   \u001b[0m creating build/lib.macosx-11.1-arm64-cpython-310/shapely/geometry\n",
      "  \u001b[31m   \u001b[0m copying shapely/geometry/geo.py -> build/lib.macosx-11.1-arm64-cpython-310/shapely/geometry\n",
      "  \u001b[31m   \u001b[0m copying shapely/geometry/conftest.py -> build/lib.macosx-11.1-arm64-cpython-310/shapely/geometry\n",
      "  \u001b[31m   \u001b[0m copying shapely/geometry/multilinestring.py -> build/lib.macosx-11.1-arm64-cpython-310/shapely/geometry\n",
      "  \u001b[31m   \u001b[0m copying shapely/geometry/multipolygon.py -> build/lib.macosx-11.1-arm64-cpython-310/shapely/geometry\n",
      "  \u001b[31m   \u001b[0m copying shapely/geometry/polygon.py -> build/lib.macosx-11.1-arm64-cpython-310/shapely/geometry\n",
      "  \u001b[31m   \u001b[0m copying shapely/geometry/linestring.py -> build/lib.macosx-11.1-arm64-cpython-310/shapely/geometry\n",
      "  \u001b[31m   \u001b[0m copying shapely/geometry/multipoint.py -> build/lib.macosx-11.1-arm64-cpython-310/shapely/geometry\n",
      "  \u001b[31m   \u001b[0m copying shapely/geometry/__init__.py -> build/lib.macosx-11.1-arm64-cpython-310/shapely/geometry\n",
      "  \u001b[31m   \u001b[0m copying shapely/geometry/point.py -> build/lib.macosx-11.1-arm64-cpython-310/shapely/geometry\n",
      "  \u001b[31m   \u001b[0m copying shapely/geometry/collection.py -> build/lib.macosx-11.1-arm64-cpython-310/shapely/geometry\n",
      "  \u001b[31m   \u001b[0m copying shapely/geometry/base.py -> build/lib.macosx-11.1-arm64-cpython-310/shapely/geometry\n",
      "  \u001b[31m   \u001b[0m creating build/lib.macosx-11.1-arm64-cpython-310/shapely/tests/legacy\n",
      "  \u001b[31m   \u001b[0m copying shapely/tests/legacy/test_prepared.py -> build/lib.macosx-11.1-arm64-cpython-310/shapely/tests/legacy\n",
      "  \u001b[31m   \u001b[0m copying shapely/tests/legacy/test_split.py -> build/lib.macosx-11.1-arm64-cpython-310/shapely/tests/legacy\n",
      "  \u001b[31m   \u001b[0m copying shapely/tests/legacy/conftest.py -> build/lib.macosx-11.1-arm64-cpython-310/shapely/tests/legacy\n",
      "  \u001b[31m   \u001b[0m copying shapely/tests/legacy/test_transform.py -> build/lib.macosx-11.1-arm64-cpython-310/shapely/tests/legacy\n",
      "  \u001b[31m   \u001b[0m copying shapely/tests/legacy/test_products_z.py -> build/lib.macosx-11.1-arm64-cpython-310/shapely/tests/legacy\n",
      "  \u001b[31m   \u001b[0m copying shapely/tests/legacy/test_substring.py -> build/lib.macosx-11.1-arm64-cpython-310/shapely/tests/legacy\n",
      "  \u001b[31m   \u001b[0m copying shapely/tests/legacy/test_empty_polygons.py -> build/lib.macosx-11.1-arm64-cpython-310/shapely/tests/legacy\n",
      "  \u001b[31m   \u001b[0m copying shapely/tests/legacy/test_validation.py -> build/lib.macosx-11.1-arm64-cpython-310/shapely/tests/legacy\n",
      "  \u001b[31m   \u001b[0m copying shapely/tests/legacy/test_delaunay.py -> build/lib.macosx-11.1-arm64-cpython-310/shapely/tests/legacy\n",
      "  \u001b[31m   \u001b[0m copying shapely/tests/legacy/test_affinity.py -> build/lib.macosx-11.1-arm64-cpython-310/shapely/tests/legacy\n",
      "  \u001b[31m   \u001b[0m copying shapely/tests/legacy/test_buffer.py -> build/lib.macosx-11.1-arm64-cpython-310/shapely/tests/legacy\n",
      "  \u001b[31m   \u001b[0m copying shapely/tests/legacy/test_polygonize.py -> build/lib.macosx-11.1-arm64-cpython-310/shapely/tests/legacy\n",
      "  \u001b[31m   \u001b[0m copying shapely/tests/legacy/test_locale.py -> build/lib.macosx-11.1-arm64-cpython-310/shapely/tests/legacy\n",
      "  \u001b[31m   \u001b[0m copying shapely/tests/legacy/test_shape.py -> build/lib.macosx-11.1-arm64-cpython-310/shapely/tests/legacy\n",
      "  \u001b[31m   \u001b[0m copying shapely/tests/legacy/test_pickle.py -> build/lib.macosx-11.1-arm64-cpython-310/shapely/tests/legacy\n",
      "  \u001b[31m   \u001b[0m copying shapely/tests/legacy/threading_test.py -> build/lib.macosx-11.1-arm64-cpython-310/shapely/tests/legacy\n",
      "  \u001b[31m   \u001b[0m copying shapely/tests/legacy/test_make_valid.py -> build/lib.macosx-11.1-arm64-cpython-310/shapely/tests/legacy\n",
      "  \u001b[31m   \u001b[0m copying shapely/tests/legacy/test_operations.py -> build/lib.macosx-11.1-arm64-cpython-310/shapely/tests/legacy\n",
      "  \u001b[31m   \u001b[0m copying shapely/tests/legacy/test_singularity.py -> build/lib.macosx-11.1-arm64-cpython-310/shapely/tests/legacy\n",
      "  \u001b[31m   \u001b[0m copying shapely/tests/legacy/test_parallel_offset.py -> build/lib.macosx-11.1-arm64-cpython-310/shapely/tests/legacy\n",
      "  \u001b[31m   \u001b[0m copying shapely/tests/legacy/test_box.py -> build/lib.macosx-11.1-arm64-cpython-310/shapely/tests/legacy\n",
      "  \u001b[31m   \u001b[0m copying shapely/tests/legacy/test_operators.py -> build/lib.macosx-11.1-arm64-cpython-310/shapely/tests/legacy\n",
      "  \u001b[31m   \u001b[0m copying shapely/tests/legacy/__init__.py -> build/lib.macosx-11.1-arm64-cpython-310/shapely/tests/legacy\n",
      "  \u001b[31m   \u001b[0m copying shapely/tests/legacy/test_snap.py -> build/lib.macosx-11.1-arm64-cpython-310/shapely/tests/legacy\n",
      "  \u001b[31m   \u001b[0m copying shapely/tests/legacy/test_persist.py -> build/lib.macosx-11.1-arm64-cpython-310/shapely/tests/legacy\n",
      "  \u001b[31m   \u001b[0m copying shapely/tests/legacy/test_orient.py -> build/lib.macosx-11.1-arm64-cpython-310/shapely/tests/legacy\n",
      "  \u001b[31m   \u001b[0m copying shapely/tests/legacy/test_ndarrays.py -> build/lib.macosx-11.1-arm64-cpython-310/shapely/tests/legacy\n",
      "  \u001b[31m   \u001b[0m copying shapely/tests/legacy/test_union.py -> build/lib.macosx-11.1-arm64-cpython-310/shapely/tests/legacy\n",
      "  \u001b[31m   \u001b[0m copying shapely/tests/legacy/test_voronoi_diagram.py -> build/lib.macosx-11.1-arm64-cpython-310/shapely/tests/legacy\n",
      "  \u001b[31m   \u001b[0m copying shapely/tests/legacy/test_linear_referencing.py -> build/lib.macosx-11.1-arm64-cpython-310/shapely/tests/legacy\n",
      "  \u001b[31m   \u001b[0m copying shapely/tests/legacy/test_cga.py -> build/lib.macosx-11.1-arm64-cpython-310/shapely/tests/legacy\n",
      "  \u001b[31m   \u001b[0m copying shapely/tests/legacy/test_geointerface.py -> build/lib.macosx-11.1-arm64-cpython-310/shapely/tests/legacy\n",
      "  \u001b[31m   \u001b[0m copying shapely/tests/legacy/test_create_inconsistent_dimensionality.py -> build/lib.macosx-11.1-arm64-cpython-310/shapely/tests/legacy\n",
      "  \u001b[31m   \u001b[0m copying shapely/tests/legacy/test_wkb.py -> build/lib.macosx-11.1-arm64-cpython-310/shapely/tests/legacy\n",
      "  \u001b[31m   \u001b[0m copying shapely/tests/legacy/test_shared_paths.py -> build/lib.macosx-11.1-arm64-cpython-310/shapely/tests/legacy\n",
      "  \u001b[31m   \u001b[0m copying shapely/tests/legacy/test_clip_by_rect.py -> build/lib.macosx-11.1-arm64-cpython-310/shapely/tests/legacy\n",
      "  \u001b[31m   \u001b[0m copying shapely/tests/legacy/test_linemerge.py -> build/lib.macosx-11.1-arm64-cpython-310/shapely/tests/legacy\n",
      "  \u001b[31m   \u001b[0m copying shapely/tests/legacy/test_predicates.py -> build/lib.macosx-11.1-arm64-cpython-310/shapely/tests/legacy\n",
      "  \u001b[31m   \u001b[0m copying shapely/tests/legacy/test_invalid_geometries.py -> build/lib.macosx-11.1-arm64-cpython-310/shapely/tests/legacy\n",
      "  \u001b[31m   \u001b[0m copying shapely/tests/legacy/test_polylabel.py -> build/lib.macosx-11.1-arm64-cpython-310/shapely/tests/legacy\n",
      "  \u001b[31m   \u001b[0m copying shapely/tests/legacy/test_equality.py -> build/lib.macosx-11.1-arm64-cpython-310/shapely/tests/legacy\n",
      "  \u001b[31m   \u001b[0m copying shapely/tests/legacy/test_svg.py -> build/lib.macosx-11.1-arm64-cpython-310/shapely/tests/legacy\n",
      "  \u001b[31m   \u001b[0m copying shapely/tests/legacy/test_nearest.py -> build/lib.macosx-11.1-arm64-cpython-310/shapely/tests/legacy\n",
      "  \u001b[31m   \u001b[0m copying shapely/tests/legacy/test_minimum_clearance.py -> build/lib.macosx-11.1-arm64-cpython-310/shapely/tests/legacy\n",
      "  \u001b[31m   \u001b[0m copying shapely/tests/legacy/test_wkt.py -> build/lib.macosx-11.1-arm64-cpython-310/shapely/tests/legacy\n",
      "  \u001b[31m   \u001b[0m copying shapely/tests/legacy/test_vectorized.py -> build/lib.macosx-11.1-arm64-cpython-310/shapely/tests/legacy\n",
      "  \u001b[31m   \u001b[0m copying shapely/tests/legacy/test_mapping.py -> build/lib.macosx-11.1-arm64-cpython-310/shapely/tests/legacy\n",
      "  \u001b[31m   \u001b[0m creating build/lib.macosx-11.1-arm64-cpython-310/shapely/tests/geometry\n",
      "  \u001b[31m   \u001b[0m copying shapely/tests/geometry/test_emptiness.py -> build/lib.macosx-11.1-arm64-cpython-310/shapely/tests/geometry\n",
      "  \u001b[31m   \u001b[0m copying shapely/tests/geometry/test_point.py -> build/lib.macosx-11.1-arm64-cpython-310/shapely/tests/geometry\n",
      "  \u001b[31m   \u001b[0m copying shapely/tests/geometry/test_decimal.py -> build/lib.macosx-11.1-arm64-cpython-310/shapely/tests/geometry\n",
      "  \u001b[31m   \u001b[0m copying shapely/tests/geometry/__init__.py -> build/lib.macosx-11.1-arm64-cpython-310/shapely/tests/geometry\n",
      "  \u001b[31m   \u001b[0m copying shapely/tests/geometry/test_collection.py -> build/lib.macosx-11.1-arm64-cpython-310/shapely/tests/geometry\n",
      "  \u001b[31m   \u001b[0m copying shapely/tests/geometry/test_polygon.py -> build/lib.macosx-11.1-arm64-cpython-310/shapely/tests/geometry\n",
      "  \u001b[31m   \u001b[0m copying shapely/tests/geometry/test_multipolygon.py -> build/lib.macosx-11.1-arm64-cpython-310/shapely/tests/geometry\n",
      "  \u001b[31m   \u001b[0m copying shapely/tests/geometry/test_hash.py -> build/lib.macosx-11.1-arm64-cpython-310/shapely/tests/geometry\n",
      "  \u001b[31m   \u001b[0m copying shapely/tests/geometry/test_linestring.py -> build/lib.macosx-11.1-arm64-cpython-310/shapely/tests/geometry\n",
      "  \u001b[31m   \u001b[0m copying shapely/tests/geometry/test_multipoint.py -> build/lib.macosx-11.1-arm64-cpython-310/shapely/tests/geometry\n",
      "  \u001b[31m   \u001b[0m copying shapely/tests/geometry/test_coords.py -> build/lib.macosx-11.1-arm64-cpython-310/shapely/tests/geometry\n",
      "  \u001b[31m   \u001b[0m copying shapely/tests/geometry/test_geometry_base.py -> build/lib.macosx-11.1-arm64-cpython-310/shapely/tests/geometry\n",
      "  \u001b[31m   \u001b[0m copying shapely/tests/geometry/test_equality.py -> build/lib.macosx-11.1-arm64-cpython-310/shapely/tests/geometry\n",
      "  \u001b[31m   \u001b[0m copying shapely/tests/geometry/test_multi.py -> build/lib.macosx-11.1-arm64-cpython-310/shapely/tests/geometry\n",
      "  \u001b[31m   \u001b[0m copying shapely/tests/geometry/test_multilinestring.py -> build/lib.macosx-11.1-arm64-cpython-310/shapely/tests/geometry\n",
      "  \u001b[31m   \u001b[0m copying shapely/tests/geometry/test_format.py -> build/lib.macosx-11.1-arm64-cpython-310/shapely/tests/geometry\n",
      "  \u001b[31m   \u001b[0m copying shapely/_geos.pxd -> build/lib.macosx-11.1-arm64-cpython-310/shapely\n",
      "  \u001b[31m   \u001b[0m copying shapely/_pygeos_api.pxd -> build/lib.macosx-11.1-arm64-cpython-310/shapely\n",
      "  \u001b[31m   \u001b[0m UPDATING build/lib.macosx-11.1-arm64-cpython-310/shapely/_version.py\n",
      "  \u001b[31m   \u001b[0m set build/lib.macosx-11.1-arm64-cpython-310/shapely/_version.py to '2.0.6'\n",
      "  \u001b[31m   \u001b[0m running build_ext\n",
      "  \u001b[31m   \u001b[0m building 'shapely.lib' extension\n",
      "  \u001b[31m   \u001b[0m creating build/temp.macosx-11.1-arm64-cpython-310/src\n",
      "  \u001b[31m   \u001b[0m clang -Wno-unused-result -Wsign-compare -Wunreachable-code -DNDEBUG -fwrapv -O2 -Wall -fPIC -O2 -isystem /Users/bchivers/miniconda3/include -arch arm64 -fPIC -O2 -isystem /Users/bchivers/miniconda3/include -arch arm64 -I/private/var/folders/9f/_x5zldf93436dmgqs24dj1rw0000gp/T/pip-build-env-bv1kn63e/overlay/lib/python3.10/site-packages/numpy/_core/include -I/Users/bchivers/miniconda3/include/python3.10 -c src/c_api.c -o build/temp.macosx-11.1-arm64-cpython-310/src/c_api.o\n",
      "  \u001b[31m   \u001b[0m In file included from src/c_api.c:15:\n",
      "  \u001b[31m   \u001b[0m In file included from src/c_api.h:22:\n",
      "  \u001b[31m   \u001b[0m src/geos.h:15:10: fatal error: 'geos_c.h' file not found\n",
      "  \u001b[31m   \u001b[0m    15 | #include <geos_c.h>\n",
      "  \u001b[31m   \u001b[0m       |          ^~~~~~~~~~\n",
      "  \u001b[31m   \u001b[0m 1 error generated.\n",
      "  \u001b[31m   \u001b[0m error: command '/usr/bin/clang' failed with exit code 1\n",
      "  \u001b[31m   \u001b[0m \u001b[31m[end of output]\u001b[0m\n",
      "  \n",
      "  \u001b[1;35mnote\u001b[0m: This error originates from a subprocess, and is likely not a problem with pip.\n",
      "\u001b[31m  ERROR: Failed building wheel for shapely\u001b[0m\u001b[31m\n",
      "\u001b[0m\u001b[?25hFailed to build shapely\n",
      "\u001b[31mERROR: Could not build wheels for shapely, which is required to install pyproject.toml-based projects\u001b[0m\u001b[31m\n",
      "\u001b[0m"
     ]
    }
   ],
   "source": [
    "!pip install shapely --no-binary shapely"
   ]
  },
  {
   "cell_type": "code",
   "execution_count": 4,
   "id": "b02RrTafTFmD",
   "metadata": {
    "id": "b02RrTafTFmD"
   },
   "outputs": [
    {
     "name": "stdout",
     "output_type": "stream",
     "text": [
      "zsh:1: command not found: wget\n"
     ]
    }
   ],
   "source": [
    "import redivis\n",
    "\n",
    "user = redivis.user(\"sdss\")\n",
    "dataset = user.dataset(\"geophysics_115_taking_the_pulse_of_the_planet:fg2x:next\")\n",
    "table = dataset.table(\"global_data:cqdz\")\n",
    "\n",
    "# Load table as a dataframe\n",
    "df = table.to_pandas_dataframe(max_results=100)\n",
    "df.head()\n",
    "\n",
    "# This table contains file references, to download:\n",
    "table.download_files(\"./taking-the-pulse-global-data/\")"
   ]
  },
  {
   "cell_type": "code",
   "execution_count": null,
   "id": "KZRIWMWVVATo",
   "metadata": {
    "id": "KZRIWMWVVATo"
   },
   "outputs": [],
   "source": [
    "import redivis\n",
    "\n",
    "user = redivis.user(\"sdss\")\n",
    "dataset = user.dataset(\"geophysics_115_taking_the_pulse_of_the_planet:fg2x:next\")\n",
    "table = dataset.table(\"atmosphere_data:9be7\")\n",
    "\n",
    "# Load table as a dataframe\n",
    "df = table.to_pandas_dataframe(max_results=100)\n",
    "df.head()\n",
    "\n",
    "# This table contains file references, to download:\n",
    "table.download_files(\"./taking_the_pulse_atmosphere_data/\")"
   ]
  },
  {
   "cell_type": "code",
   "execution_count": null,
   "id": "01b576ec",
   "metadata": {
    "id": "01b576ec"
   },
   "outputs": [],
   "source": [
    "import numpy as np\n",
    "import xarray as xr\n",
    "import pandas as pd\n",
    "import geopandas as gpd\n",
    "import matplotlib.pyplot as plt\n",
    "import matplotlib.dates as mdates\n",
    "import matplotlib\n",
    "import cartopy.crs as ccrs\n",
    "import cartopy.feature as cf\n",
    "import datetime\n",
    "import rioxarray\n",
    "from shapely.geometry import mapping\n",
    "matplotlib.rcParams['font.size'] = 14\n",
    "from ipywidgets import widgets, interact"
   ]
  },
  {
   "cell_type": "code",
   "execution_count": null,
   "id": "n1UlUCMnU-ac",
   "metadata": {
    "id": "n1UlUCMnU-ac"
   },
   "outputs": [],
   "source": [
    "gdf_boundaries = gpd.read_file(\"./taking_the_pulse_atmosphere_data/world-administrative-boundaries.geojson\")"
   ]
  },
  {
   "cell_type": "markdown",
   "id": "Te-Nd655smj-",
   "metadata": {
    "id": "Te-Nd655smj-"
   },
   "source": [
    "## ASSIGNMENT PART 1"
   ]
  },
  {
   "cell_type": "markdown",
   "id": "hIYm2YfM_oHq",
   "metadata": {
    "id": "hIYm2YfM_oHq"
   },
   "source": [
    "## Q1. \n",
    "You have access to a data set providing precipitation from 1985-2015.  We want you to design a workflow to analyze and visualize the data to determine what impact, if any, climate change is having. \n",
    "\n"
   ]
  },
  {
   "cell_type": "markdown",
   "id": "6GK6FFnIFBjB",
   "metadata": {
    "id": "6GK6FFnIFBjB"
   },
   "source": [
    "### a)\t\n",
    "In words list the various steps of your workflow and explain, for each step, the purpose of the step and/or what you hope to learn from the step."
   ]
  },
  {
   "cell_type": "markdown",
   "id": "C5Mef2Je_2DQ",
   "metadata": {
    "id": "C5Mef2Je_2DQ"
   },
   "source": [
    "**Double click this text and put your answer here**"
   ]
  },
  {
   "cell_type": "markdown",
   "id": "1HE5JDCd_1HI",
   "metadata": {
    "id": "1HE5JDCd_1HI"
   },
   "source": [
    "### b)\t\n",
    "\n",
    "Now proceed, using your notebook to implement your workflow, pasting in and modifying (as needed) the code, and generating any useful figures/images. The code below loads the data; the rest is up to you!\n",
    "\n",
    "\n"
   ]
  },
  {
   "cell_type": "code",
   "execution_count": null,
   "id": "zyz8Lv0cvq0z",
   "metadata": {
    "id": "zyz8Lv0cvq0z"
   },
   "outputs": [],
   "source": [
    "temp_precip_data = xr.load_dataset(\"./taking-the-pulse-global-data/global_precip_and_temp.nc\")\n",
    "\n",
    "### add more code and code cells as necessary. You can format your code however you want"
   ]
  },
  {
   "cell_type": "code",
   "execution_count": null,
   "id": "xG7vldwuAQEr",
   "metadata": {
    "id": "xG7vldwuAQEr"
   },
   "outputs": [],
   "source": [
    "### more code here"
   ]
  },
  {
   "cell_type": "markdown",
   "id": "kYt6exAA_-uP",
   "metadata": {
    "id": "kYt6exAA_-uP"
   },
   "source": [
    "## Q2. \n",
    "\n",
    "You have access to a data set providing temperature from 1985-2015.  We want you to design a workflow to analyze and visualize the data to determine what impact, if any, climate change is having. \n"
   ]
  },
  {
   "cell_type": "markdown",
   "id": "9BhL9uZhFJYB",
   "metadata": {
    "id": "9BhL9uZhFJYB"
   },
   "source": [
    "### a)\t\n",
    "In words list the various steps of your workflow and explain, for each step, the purpose of the step and/or what you hope to learn from the step."
   ]
  },
  {
   "cell_type": "markdown",
   "id": "styXrNhWEq6S",
   "metadata": {
    "id": "styXrNhWEq6S"
   },
   "source": [
    "**Double click this text and put your answer here**"
   ]
  },
  {
   "cell_type": "markdown",
   "id": "ujFKveKiEk5B",
   "metadata": {
    "id": "ujFKveKiEk5B"
   },
   "source": [
    "### b)\t\n",
    "Now proceed, using your notebook to implement your workflow, pasting in and modifying (as needed) the code, and generating any useful figures/images.\n",
    "\n",
    "\n"
   ]
  },
  {
   "cell_type": "code",
   "execution_count": null,
   "id": "-1aTOEpwEr-G",
   "metadata": {
    "id": "-1aTOEpwEr-G"
   },
   "outputs": [],
   "source": [
    "### your code here; add cells as necessary"
   ]
  },
  {
   "cell_type": "markdown",
   "id": "HQ2nNdKVEnOQ",
   "metadata": {
    "id": "HQ2nNdKVEnOQ"
   },
   "source": [
    "## Q3. \n",
    "\n",
    "You can start thinking about these questions now, and then continue once you start work on Part 2 on Thursday: How are the changes in precipitation and temperature introducing sustainability challenges in different countries? How could human activities mitigate the negative effects? How are human activities amplifying the negative impacts? Discuss this – no more than 1 page total – under the headings of environmental, economic, and social. Feel free to use reference material - peer reviewed, popular press, or Wikipedia - available through the internet."
   ]
  },
  {
   "cell_type": "markdown",
   "id": "Y0yrDxjhE0kC",
   "metadata": {
    "id": "Y0yrDxjhE0kC"
   },
   "source": [
    "**Double click this text and put your answer here**"
   ]
  }
 ],
 "metadata": {
  "colab": {
   "include_colab_link": true,
   "provenance": [],
   "toc_visible": true
  },
  "kernelspec": {
   "display_name": "Python 3 (ipykernel)",
   "language": "python",
   "name": "python3"
  },
  "language_info": {
   "codemirror_mode": {
    "name": "ipython",
    "version": 3
   },
   "file_extension": ".py",
   "mimetype": "text/x-python",
   "name": "python",
   "nbconvert_exporter": "python",
   "pygments_lexer": "ipython3",
   "version": "3.10.10"
  }
 },
 "nbformat": 4,
 "nbformat_minor": 5
}
